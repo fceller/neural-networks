{
  "nbformat": 4,
  "nbformat_minor": 0,
  "metadata": {
    "colab": {
      "name": "MatrixMultiplicationCNN.ipynb",
      "provenance": [],
      "include_colab_link": true
    },
    "kernelspec": {
      "name": "python3",
      "display_name": "Python 3"
    }
  },
  "cells": [
    {
      "cell_type": "markdown",
      "metadata": {
        "id": "view-in-github",
        "colab_type": "text"
      },
      "source": [
        "<a href=\"https://colab.research.google.com/github/fceller/neural-networks/blob/main/MatrixMultiplicationCNN.ipynb\" target=\"_parent\"><img src=\"https://colab.research.google.com/assets/colab-badge.svg\" alt=\"Open In Colab\"/></a>"
      ]
    },
    {
      "cell_type": "markdown",
      "metadata": {
        "id": "0JTmiBmgNtL6"
      },
      "source": [
        "# Matrix Multiplication and CNN\n",
        "\n",
        "A junior class about matrices and neuronal networks.\n",
        "\n",
        "\n",
        "\n",
        "## Vectors and ℝ^n\n",
        "\n",
        "A vector in ℝ^n is a n-tuple of n real numbers. There are a lot of other possibilities like looking at complex numbers, integers, finite fields. For now, we will only look at real numbers.\n",
        "\n",
        "### Example ℝ^2\n",
        "\n",
        "Vectors are common noted as (x,y), sometimes as (x_0, x_1) if the number are keep variable. A single fixed vector is, for example, (1,2).\n",
        "\n",
        "Vectors are elements of a vector space. This yields to a lot of other interesting interpretations. Ignore them for now. They are not (yet) important. For now, just think of vector is a sequence of n real numbers.\n",
        "\n",
        "### Images\n",
        "\n",
        "Consider your monitor. It's pictures is generated of millions of dots. Each indidual dots can be noted by (x,y) and has a brightness of b_x_y. If b_x_y = 0 it is black. If b_x_y = 255 it is white.\n",
        "\n",
        "Let (0,0) identify first dot in the upper left corner and (639,479) the last dot in the lower right corner.\n",
        "\n",
        "A picture can be described as a function f that takes a 2-dimensional vector as input and returns a number betweem 0 and 255.\n",
        "\n",
        "f: ℝ^n => ℝ\n",
        "\n",
        "However, there is also a different view on images and vectors.\n",
        "\n",
        "Stay with the above example, it basically means that\n",
        "\n",
        "(0,0) => b_0_0\n",
        "(0,1) => b_0_1\n",
        "...\n",
        "(639,479) => b_639_479\n",
        "\n",
        "An image can be described of map as above. It can also be described as an vector of length 640 x 480 = 307.200\n",
        "\n",
        "(b_0_0, b_0_1, ..., b_639_479)\n",
        "\n",
        "The image is representated as a huge vector of dot brightness values. Starting with the first row, followed by the second row and so on.\n",
        "\n",
        "We will use this interpretation as an example in the following. However, let us start with a much smaller image. Assume you have 2x2 gray-scale image. Let us first set up some common python libraries and then create the corresponding 4-dimensional vector."
      ]
    },
    {
      "cell_type": "code",
      "metadata": {
        "id": "RtwfH_X5Vpj4"
      },
      "source": [
        "%%capture\n",
        "!pip3 install numpy\n",
        "!pip3 install torch\n",
        "!pip3 install networkx\n",
        "!pip3 install matplotlib\n",
        "!pip3 install scipy"
      ],
      "execution_count": null,
      "outputs": []
    },
    {
      "cell_type": "code",
      "metadata": {
        "id": "ydzNaHwFVtL4"
      },
      "source": [
        "import networkx as nx\n",
        "import matplotlib.pyplot as plt\n",
        "import numpy as np"
      ],
      "execution_count": null,
      "outputs": []
    },
    {
      "cell_type": "code",
      "metadata": {
        "colab": {
          "base_uri": "https://localhost:8080/"
        },
        "id": "6spMz5wGWD0n",
        "outputId": "64f0afb8-1637-40d0-8855-d4847b7c9444"
      },
      "source": [
        "image = [[255, 128], [64, 32]]\n",
        "print(np.matrix(image))"
      ],
      "execution_count": null,
      "outputs": [
        {
          "output_type": "stream",
          "text": [
            "[[255 128]\n",
            " [ 64  32]]\n"
          ],
          "name": "stdout"
        }
      ]
    },
    {
      "cell_type": "markdown",
      "metadata": {
        "id": "CiuWxxNdWdH1"
      },
      "source": [
        "The image is very bright in the upper left corner and dark in the lower right one. Now create the corresponding 4-dimension image vector."
      ]
    },
    {
      "cell_type": "code",
      "metadata": {
        "colab": {
          "base_uri": "https://localhost:8080/"
        },
        "id": "v3KduvGOXHlZ",
        "outputId": "2100ec57-f54a-4e37-bba4-90e4af70d7dc"
      },
      "source": [
        "image_vector = np.array([dot for lines in image for dot in lines])\n",
        "print(image_vector)"
      ],
      "execution_count": null,
      "outputs": [
        {
          "output_type": "stream",
          "text": [
            "[255 128  64  32]\n"
          ],
          "name": "stdout"
        }
      ]
    },
    {
      "cell_type": "markdown",
      "metadata": {
        "id": "LD02hcLvYC4E"
      },
      "source": [
        "## Vector multiplication\n",
        "\n",
        "If you have TWO vectors you can “multiply” them as follows\n",
        "\n",
        "(x0, x1, x2, x3) * (y0, y1, y2, y3)\n",
        "\n",
        "Take the first numbers x0 and y0 and multiply them. Take the second and add the result to x0 * y0. In the end this will end up as\n",
        "\n",
        "x0* y0 + x1 * y1 + x2 * y2 + x3 * y3\n",
        "\n",
        "If you multiply two 4-dimensional vectors, you will end up with a single number!\n",
        "\n",
        "### Example\n",
        "\n",
        "Assume you want to compute the average brightness of an image. Then we can use vector multiplication as follows.\n",
        "\n",
        "Define an \"average\" vector and multiply it with the image."
      ]
    },
    {
      "cell_type": "code",
      "metadata": {
        "colab": {
          "base_uri": "https://localhost:8080/"
        },
        "id": "Mai3ewlNZGvm",
        "outputId": "190fc11c-fb91-4f78-a2e5-20ada6b65866"
      },
      "source": [
        "avg = np.array([1/4, 1/4, 1/4, 1/4])\n",
        "brightness = image_vector.dot(avg.T)\n",
        "print(brightness)"
      ],
      "execution_count": null,
      "outputs": [
        {
          "output_type": "stream",
          "text": [
            "119.75\n"
          ],
          "name": "stdout"
        }
      ]
    },
    {
      "cell_type": "markdown",
      "metadata": {
        "id": "wX2CMIzpiVO5"
      },
      "source": [
        "So, the average is a bit below the average gray. If you do the multiplication \"by hand\" you will see that is the sum over all dots, normalized with a factor of 4 because there are in total 4 dots.\n",
        "\n",
        "As a next step lets define two more \"averaging\" vectors. The first one puts a bias on the upper left corner. \n",
        "\n",
        "Note that, in an 2x2 this is a bit artificial. But let's stick to this easy example."
      ]
    },
    {
      "cell_type": "code",
      "metadata": {
        "colab": {
          "base_uri": "https://localhost:8080/"
        },
        "id": "ytg8uq4QkuAb",
        "outputId": "5fc52b88-6c19-47c8-f80b-750f31c909c0"
      },
      "source": [
        "ul = np.array([2/4,1/4,1/4,0])\n",
        "brightness = image_vector.dot(ul.T)\n",
        "print(brightness)"
      ],
      "execution_count": null,
      "outputs": [
        {
          "output_type": "stream",
          "text": [
            "175.5\n"
          ],
          "name": "stdout"
        }
      ]
    },
    {
      "cell_type": "markdown",
      "metadata": {
        "id": "HL8TiNKIlaHd"
      },
      "source": [
        "So, the upper left corner is much brighter than the average. Now look at the lower right corner."
      ]
    },
    {
      "cell_type": "code",
      "metadata": {
        "colab": {
          "base_uri": "https://localhost:8080/"
        },
        "id": "3neJS4exlhkK",
        "outputId": "2502ee70-04c7-40d8-d3df-61742bf96a6d"
      },
      "source": [
        "lr = np.array([0/4,1/4,1/4,2/4])\n",
        "brightness = image_vector.dot(lr.T)\n",
        "print(brightness)"
      ],
      "execution_count": null,
      "outputs": [
        {
          "output_type": "stream",
          "text": [
            "64.0\n"
          ],
          "name": "stdout"
        }
      ]
    },
    {
      "cell_type": "markdown",
      "metadata": {
        "id": "M7-3pnOMlrZC"
      },
      "source": [
        "Not that much suprisingly, the lower right corner is much darker."
      ]
    },
    {
      "cell_type": "markdown",
      "metadata": {
        "id": "6rQrJWf31i18"
      },
      "source": [
        "## Matrics and ℝ^n\n",
        "\n",
        "Now assume you have m vectors in ℝ^n. In the previous example three vectors. One vector to compute the average. One to compute the bias to the upper left corner. One to compute the bias to the lower left corner.\n",
        "\n",
        "In the last example, we have three vectors in ℝ4 . This can be defined as a 4x3 matrix."
      ]
    },
    {
      "cell_type": "code",
      "metadata": {
        "colab": {
          "base_uri": "https://localhost:8080/"
        },
        "id": "FVY4MrFc18V7",
        "outputId": "5b2df3b1-b1be-45ea-ff34-628667b4d166"
      },
      "source": [
        "all_avg = np.matrix([[1/4,1/4,1/4,1/4],[2/4,1/4,1/4,0/4],[0/4,1/4,1/4,2/4]])\n",
        "print(all_avg)"
      ],
      "execution_count": null,
      "outputs": [
        {
          "output_type": "stream",
          "text": [
            "[[0.25 0.25 0.25 0.25]\n",
            " [0.5  0.25 0.25 0.  ]\n",
            " [0.   0.25 0.25 0.5 ]]\n"
          ],
          "name": "stdout"
        }
      ]
    },
    {
      "cell_type": "markdown",
      "metadata": {
        "id": "p1fRtTRO2bDN"
      },
      "source": [
        "This is called a 3x4 matrix. Ie. a list of three vectors of dimension 4.\n",
        "\n",
        "A matrix multiplication is an generalization of the vector multiplication.\n",
        "\n",
        "Take the image_vector and multiply this with the first column. Then the second column and so on.\n",
        "\n",
        "However, the shape of the matrix does not \"fit\" to the vector. The first column has only 3 entries. We need to flip columns and rows. That is called transposing the matrix."
      ]
    },
    {
      "cell_type": "code",
      "metadata": {
        "colab": {
          "base_uri": "https://localhost:8080/"
        },
        "id": "RGFo1B4f3LW7",
        "outputId": "84b05b44-ed1d-4cf4-b837-6e23639d7d56"
      },
      "source": [
        "all_t = all_avg.T\n",
        "print(all_t)"
      ],
      "execution_count": null,
      "outputs": [
        {
          "output_type": "stream",
          "text": [
            "[[0.25 0.5  0.  ]\n",
            " [0.25 0.25 0.25]\n",
            " [0.25 0.25 0.25]\n",
            " [0.25 0.   0.5 ]]\n"
          ],
          "name": "stdout"
        }
      ]
    },
    {
      "cell_type": "markdown",
      "metadata": {
        "id": "PRyqYHek3TGT"
      },
      "source": [
        "We can now simple multiply the vector with the matrix."
      ]
    },
    {
      "cell_type": "code",
      "metadata": {
        "colab": {
          "base_uri": "https://localhost:8080/"
        },
        "id": "7CLfieCc3YUs",
        "outputId": "9cb1a233-575a-4b40-b765-ef072b5c82b9"
      },
      "source": [
        "avgs = image_vector.dot(all_t)\n",
        "print(avgs)"
      ],
      "execution_count": null,
      "outputs": [
        {
          "output_type": "stream",
          "text": [
            "[[119.75 175.5   64.  ]]\n"
          ],
          "name": "stdout"
        }
      ]
    },
    {
      "cell_type": "markdown",
      "metadata": {
        "id": "m-0oaTLu4N5R"
      },
      "source": [
        "We get all averages in one go."
      ]
    }
  ]
}